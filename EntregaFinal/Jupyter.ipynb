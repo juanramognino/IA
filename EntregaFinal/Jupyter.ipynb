{
 "cells": [
  {
   "cell_type": "code",
   "execution_count": null,
   "id": "de3a9973-94b0-48bd-a693-291bec292b35",
   "metadata": {},
   "outputs": [],
   "source": [
    "# Gestión del Burnout en Deportistas a través de Generación de Prompts\n",
    "\n",
    "## Introducción\n",
    "\n",
    "El burnout en deportistas es un problema que afecta tanto el rendimiento como la salud mental de los atletas. Este proyecto tiene como objetivo utilizar técnicas de generación de prompts para ayudar a los deportistas a gestionar el burnout. La solución propuesta incluye el uso de prompts de texto y texto-imagen para fomentar la reflexión y la autoevaluación, con el fin de identificar y abordar las fuentes de estrés.\n",
    "\n",
    "## Objetivos\n",
    "\n",
    "1. **Demostrar la comprensión de los principios y técnicas detrás de Fast Prompting.**\n",
    "2. **Experimentar con diferentes configuraciones de prompts para optimizar la eficacia.**\n",
    "3. **Preparar una demostración efectiva en Jupyter Notebook para mostrar el funcionamiento de la prueba de concepto (POC).**\n",
    "\n",
    "## Herramientas y Tecnologías\n",
    "\n",
    "- **API de OpenAI** para la generación de prompts.\n",
    "- **Jupyter Notebook** para la implementación y demostración.\n",
    "- **Herramientas de visualización** como Matplotlib y Pandas.\n"
   ]
  },
  {
   "cell_type": "code",
   "execution_count": null,
   "id": "ebc4267f-fb93-46ff-a6cc-4e9e2524ddce",
   "metadata": {},
   "outputs": [],
   "source": [
    "# Instalar las dependencias necesarias\n",
    "!pip install pandas matplotlib\n"
   ]
  },
  {
   "cell_type": "code",
   "execution_count": null,
   "id": "d250f08d-9887-4c61-8f1f-c23b49bdb3c4",
   "metadata": {},
   "outputs": [],
   "source": [
    "# Función simulada para obtener respuestas\n",
    "def obtener_respuesta_simulada(prompt):\n",
    "    # Simulación de respuestas para demostración\n",
    "    respuestas_simuladas = {\n",
    "        \"Describe cómo te sientes después de una competencia y qué factores contribuyen a tu estrés.\": \n",
    "        \"Después de una competencia, me siento agotado y estresado. Los factores que contribuyen a mi estrés incluyen la presión para ganar, el miedo al fracaso y la falta de tiempo para recuperarme.\",\n",
    "        \"¿Cuáles son los principales factores que contribuyen a tu estrés?\": \n",
    "        \"Los principales factores incluyen la presión de los entrenadores, la competencia con otros atletas y las expectativas personales.\",\n",
    "        \"¿Cómo te sientes después de una competencia?\": \n",
    "        \"Normalmente me siento cansado y un poco desanimado si no logro los resultados esperados.\"\n",
    "    }\n",
    "    return respuestas_simuladas.get(prompt, \"No tengo una respuesta simulada para este prompt.\")\n",
    "\n",
    "# Ejemplo de uso\n",
    "prompt = \"Describe cómo te sientes después de una competencia y qué factores contribuyen a tu estrés.\"\n",
    "respuesta = obtener_respuesta_simulada(prompt)\n",
    "print(respuesta)\n",
    "\n"
   ]
  },
  {
   "cell_type": "code",
   "execution_count": null,
   "id": "f6c714f4-b74d-4d8c-9c72-6d32b07b6c4d",
   "metadata": {},
   "outputs": [],
   "source": [
    "# Función para generar un prompt de texto\n",
    "def generar_prompt_texto():\n",
    "    prompt_texto = \"Describe cómo te sientes después de una competencia y qué factores contribuyen a tu estrés.\"\n",
    "    return prompt_texto\n",
    "\n",
    "# Función para generar un prompt de imagen (simulado)\n",
    "def generar_prompt_imagen():\n",
    "    prompt_imagen = \"Crea una visualización de un deportista alcanzando su meta en un evento deportivo, reflejando la satisfacción y el bienestar emocional.\"\n",
    "    return prompt_imagen\n",
    "\n",
    "# Ejemplo de generación de prompts\n",
    "prompt_texto = generar_prompt_texto()\n",
    "prompt_imagen = generar_prompt_imagen()\n",
    "print(\"Prompt de Texto:\", prompt_texto)\n",
    "print(\"Prompt de Imagen:\", prompt_imagen)\n"
   ]
  },
  {
   "cell_type": "code",
   "execution_count": null,
   "id": "c411a75c-4085-48a5-9dfe-8f5e02c8e6a2",
   "metadata": {},
   "outputs": [],
   "source": [
    "import pandas as pd\n",
    "import matplotlib.pyplot as plt\n",
    "\n",
    "# Ejemplo de datos ficticios\n",
    "datos = {\n",
    "    'Deportista': ['Atleta 1', 'Atleta 2', 'Atleta 3'],\n",
    "    'Nivel de Estrés': [5, 7, 4],  # Escala del 1 al 10\n",
    "    'Síntomas': ['Ansiedad', 'Fatiga', 'Desmotivación']\n",
    "}\n",
    "df = pd.DataFrame(datos)\n",
    "\n",
    "# Visualización del nivel de estrés\n",
    "plt.figure(figsize=(10, 6))\n",
    "plt.bar(df['Deportista'], df['Nivel de Estrés'], color='skyblue')\n",
    "plt.title('Niveles de Estrés en Deportistas')\n",
    "plt.xlabel('Deportista')\n",
    "plt.ylabel('Nivel de Estrés (1-10)')\n",
    "plt.show()\n",
    "\n"
   ]
  }
 ],
 "metadata": {
  "kernelspec": {
   "display_name": "Python 3 (ipykernel)",
   "language": "python",
   "name": "python3"
  },
  "language_info": {
   "codemirror_mode": {
    "name": "ipython",
    "version": 3
   },
   "file_extension": ".py",
   "mimetype": "text/x-python",
   "name": "python",
   "nbconvert_exporter": "python",
   "pygments_lexer": "ipython3",
   "version": "3.12.4"
  }
 },
 "nbformat": 4,
 "nbformat_minor": 5
}
